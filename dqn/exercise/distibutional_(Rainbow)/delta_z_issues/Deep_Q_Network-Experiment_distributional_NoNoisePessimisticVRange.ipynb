{
 "cells": [
  {
   "cell_type": "markdown",
   "metadata": {},
   "source": [
    "# Deep Q-Network (DQN)\n",
    "---\n",
    "In this notebook, you will implement a DQN agent with OpenAI Gym's LunarLander-v2 environment.\n",
    "\n",
    "### 1. Import the Necessary Packages"
   ]
  },
  {
   "cell_type": "code",
   "execution_count": 1,
   "metadata": {
    "ExecuteTime": {
     "end_time": "2019-03-15T03:04:07.199047Z",
     "start_time": "2019-03-15T03:04:05.646086Z"
    }
   },
   "outputs": [],
   "source": [
    "import gym\n",
    "import random\n",
    "import torch\n",
    "import numpy as np\n",
    "from collections import deque\n",
    "import matplotlib.pyplot as plt\n",
    "%matplotlib inline\n",
    "\n",
    "EXPERIMENT_NAME   = \"rainbow\"\n",
    "EXPERIMENT_DETAIL = \"NoNoisePessimisticVRange\""
   ]
  },
  {
   "cell_type": "markdown",
   "metadata": {},
   "source": [
    "### 2. Instantiate the Environment and Agent\n",
    "\n",
    "Initialize the environment in the code cell below."
   ]
  },
  {
   "cell_type": "code",
   "execution_count": 2,
   "metadata": {
    "ExecuteTime": {
     "end_time": "2019-03-15T03:04:07.902298Z",
     "start_time": "2019-03-15T03:04:07.201146Z"
    }
   },
   "outputs": [
    {
     "name": "stdout",
     "output_type": "stream",
     "text": [
      "State shape:  (8,)\n",
      "Number of actions:  4\n"
     ]
    }
   ],
   "source": [
    "env = gym.make('LunarLander-v2')\n",
    "env.seed(0)\n",
    "print('State shape: ', env.observation_space.shape)\n",
    "print('Number of actions: ', env.action_space.n)"
   ]
  },
  {
   "cell_type": "markdown",
   "metadata": {},
   "source": [
    "Before running the next code cell, familiarize yourself with the code in **Step 2** and **Step 3** of this notebook, along with the code in `dqn_agent.py` and `model.py`.  Once you have an understanding of how the different files work together, \n",
    "- Define a neural network architecture in `model.py` that maps states to action values.  This file is mostly empty - it's up to you to define your own deep Q-network!\n",
    "- Finish the `learn` method in the `Agent` class in `dqn_agent.py`.  The sampled batch of experience tuples is already provided for you; you need only use the local and target Q-networks to compute the loss, before taking a step towards minimizing the loss.\n",
    "\n",
    "Once you have completed the code in `dqn_agent.py` and `model.py`, run the code cell below.  (_If you end up needing to make multiple changes and get unexpected behavior, please restart the kernel and run the cells from the beginning of the notebook!_)\n",
    "\n",
    "You can find the solution files, along with saved model weights for a trained agent, in the `solution/` folder.  (_Note that there are many ways to solve this exercise, and the \"solution\" is just one way of approaching the problem, to yield a trained agent._)"
   ]
  },
  {
   "cell_type": "code",
   "execution_count": 3,
   "metadata": {
    "ExecuteTime": {
     "end_time": "2019-03-15T03:04:14.773252Z",
     "start_time": "2019-03-15T03:04:14.767252Z"
    }
   },
   "outputs": [],
   "source": [
    "# Hyperparameters\n",
    "\n",
    "hyperparams = {\n",
    "    'seed':                101,\n",
    "    'buffer_size':         int(1e5),\n",
    "    'batch_size':          32,\n",
    "    'start_since':         32,\n",
    "    'gamma':               0.99,\n",
    "    'target_update_every': 4,\n",
    "    'tau':                 1e-3,\n",
    "    'lr':                  1e-4,\n",
    "    'weight_decay':        0,\n",
    "    'update_every':        4,\n",
    "    'priority_eps':        1e-5,\n",
    "    'a':                   0.5,\n",
    "    'n_multisteps':        3,\n",
    "    'v_min':               -800,\n",
    "    'v_max':               300,\n",
    "    'clip':                None,\n",
    "    'n_atoms':             51,\n",
    "    'initial_sigma':       0.1,\n",
    "    'linear_type':         'linear'\n",
    "}\n",
    "\n",
    "# Training Parameters\n",
    "\n",
    "train_params = {\n",
    "    'n_episodes': 2000, 'max_t':    1000,\n",
    "    'eps_start':  1.,   'eps_end':  0.01,  'eps_decay': 0.9975,\n",
    "    'beta_start': 0.4,   'beta_end': 1.0\n",
    "}"
   ]
  },
  {
   "cell_type": "code",
   "execution_count": 4,
   "metadata": {
    "ExecuteTime": {
     "end_time": "2019-03-15T03:04:20.334418Z",
     "start_time": "2019-03-15T03:04:15.287335Z"
    }
   },
   "outputs": [],
   "source": [
    "from dqn_agent import Agent\n",
    "\n",
    "agent = Agent(state_size=8, action_size=4, **hyperparams)"
   ]
  },
  {
   "cell_type": "markdown",
   "metadata": {},
   "source": [
    "### 3. Train the Agent with DQN\n",
    "\n",
    "Run the code cell below to train the agent from scratch.  You are welcome to amend the supplied values of the parameters in the function, to try to see if you can get better performance!"
   ]
  },
  {
   "cell_type": "code",
   "execution_count": 5,
   "metadata": {
    "ExecuteTime": {
     "end_time": "2019-03-15T04:01:03.955368Z",
     "start_time": "2019-03-15T03:04:20.336285Z"
    },
    "scrolled": false
   },
   "outputs": [
    {
     "name": "stdout",
     "output_type": "stream",
     "text": [
      "Priority Used\n",
      "Episode  100 | Current Score: -182.35 | Average Score: -176.37 | Epsilon: 0.7786 | A: 0.5000 | Beta: 0.4300          \n",
      "Episode  200 | Current Score:  -98.27 | Average Score: -155.11 | Epsilon: 0.6062 | A: 0.5000 | Beta: 0.4600          \n",
      "Episode  300 | Current Score: -126.12 | Average Score: -131.07 | Epsilon: 0.4719 | A: 0.5000 | Beta: 0.4900          \n",
      "Episode  400 | Current Score:  -83.08 | Average Score: -140.09 | Epsilon: 0.3674 | A: 0.5000 | Beta: 0.5200          \n",
      "Episode  500 | Current Score:  -56.99 | Average Score: -148.86 | Epsilon: 0.2861 | A: 0.5000 | Beta: 0.5500          \n",
      "Episode  600 | Current Score:  -57.15 | Average Score: -135.93 | Epsilon: 0.2227 | A: 0.5000 | Beta: 0.5800          \n",
      "Episode  700 | Current Score:  -42.71 | Average Score: -136.38 | Epsilon: 0.1734 | A: 0.5000 | Beta: 0.6100          \n",
      "Episode  800 | Current Score:  -70.74 | Average Score:  -98.84 | Epsilon: 0.1350 | A: 0.5000 | Beta: 0.6400          \n",
      "Episode  900 | Current Score:  -48.45 | Average Score: -109.75 | Epsilon: 0.1051 | A: 0.5000 | Beta: 0.6700          \n",
      "Episode  956 | Current Score:  -65.50 | Average Score: -110.83 | Epsilon: 0.0914 | A: 0.5000 | Beta: 0.6868          "
     ]
    },
    {
     "ename": "KeyboardInterrupt",
     "evalue": "",
     "output_type": "error",
     "traceback": [
      "\u001b[1;31m---------------------------------------------------------------------------\u001b[0m",
      "\u001b[1;31mKeyboardInterrupt\u001b[0m                         Traceback (most recent call last)",
      "\u001b[1;32m<ipython-input-5-0fe4406ff778>\u001b[0m in \u001b[0;36m<module>\u001b[1;34m\u001b[0m\n\u001b[0;32m     67\u001b[0m scores = dqn(**train_params,\n\u001b[0;32m     68\u001b[0m              \u001b[0mcontinue_after_solved\u001b[0m\u001b[1;33m=\u001b[0m\u001b[1;32mTrue\u001b[0m\u001b[1;33m,\u001b[0m\u001b[1;33m\u001b[0m\u001b[1;33m\u001b[0m\u001b[0m\n\u001b[1;32m---> 69\u001b[1;33m              save_name=\"experiment_{}_{}_solved.pth\".format(EXPERIMENT_NAME, EXPERIMENT_DETAIL))\n\u001b[0m\u001b[0;32m     70\u001b[0m \u001b[1;33m\u001b[0m\u001b[0m\n\u001b[0;32m     71\u001b[0m \u001b[1;31m# plot the scores\u001b[0m\u001b[1;33m\u001b[0m\u001b[1;33m\u001b[0m\u001b[1;33m\u001b[0m\u001b[0m\n",
      "\u001b[1;32m<ipython-input-5-0fe4406ff778>\u001b[0m in \u001b[0;36mdqn\u001b[1;34m(n_episodes, max_t, eps_start, eps_end, eps_decay, beta_start, beta_end, continue_after_solved, save_name)\u001b[0m\n\u001b[0;32m     34\u001b[0m             \u001b[0maction\u001b[0m \u001b[1;33m=\u001b[0m \u001b[0magent\u001b[0m\u001b[1;33m.\u001b[0m\u001b[0mact\u001b[0m\u001b[1;33m(\u001b[0m\u001b[0mstate\u001b[0m\u001b[1;33m,\u001b[0m \u001b[0meps\u001b[0m\u001b[1;33m)\u001b[0m\u001b[1;33m\u001b[0m\u001b[1;33m\u001b[0m\u001b[0m\n\u001b[0;32m     35\u001b[0m             \u001b[0mnext_state\u001b[0m\u001b[1;33m,\u001b[0m \u001b[0mreward\u001b[0m\u001b[1;33m,\u001b[0m \u001b[0mdone\u001b[0m\u001b[1;33m,\u001b[0m \u001b[0m_\u001b[0m \u001b[1;33m=\u001b[0m \u001b[0menv\u001b[0m\u001b[1;33m.\u001b[0m\u001b[0mstep\u001b[0m\u001b[1;33m(\u001b[0m\u001b[0maction\u001b[0m\u001b[1;33m)\u001b[0m\u001b[1;33m\u001b[0m\u001b[1;33m\u001b[0m\u001b[0m\n\u001b[1;32m---> 36\u001b[1;33m             \u001b[0magent\u001b[0m\u001b[1;33m.\u001b[0m\u001b[0mstep\u001b[0m\u001b[1;33m(\u001b[0m\u001b[0mstate\u001b[0m\u001b[1;33m,\u001b[0m \u001b[0maction\u001b[0m\u001b[1;33m,\u001b[0m \u001b[0mreward\u001b[0m\u001b[1;33m,\u001b[0m \u001b[0mnext_state\u001b[0m\u001b[1;33m,\u001b[0m \u001b[0mdone\u001b[0m\u001b[1;33m)\u001b[0m\u001b[1;33m\u001b[0m\u001b[1;33m\u001b[0m\u001b[0m\n\u001b[0m\u001b[0;32m     37\u001b[0m             \u001b[0mstate\u001b[0m \u001b[1;33m=\u001b[0m \u001b[0mnext_state\u001b[0m\u001b[1;33m\u001b[0m\u001b[1;33m\u001b[0m\u001b[0m\n\u001b[0;32m     38\u001b[0m             \u001b[0mscore\u001b[0m \u001b[1;33m+=\u001b[0m \u001b[0mreward\u001b[0m\u001b[1;33m\u001b[0m\u001b[1;33m\u001b[0m\u001b[0m\n",
      "\u001b[1;32mD:\\GitHub\\deep-reinforcement-learning\\dqn\\exercise\\dqn_agent_distributional.py\u001b[0m in \u001b[0;36mstep\u001b[1;34m(self, state, action, reward, next_state, done)\u001b[0m\n\u001b[0;32m    127\u001b[0m                 \u001b[0mexperiences\u001b[0m\u001b[1;33m,\u001b[0m \u001b[0mtarget_discount\u001b[0m\u001b[1;33m,\u001b[0m \u001b[0mis_weights\u001b[0m\u001b[1;33m,\u001b[0m \u001b[0mindices\u001b[0m \u001b[1;33m=\u001b[0m \u001b[0mself\u001b[0m\u001b[1;33m.\u001b[0m\u001b[0mmemory\u001b[0m\u001b[1;33m.\u001b[0m\u001b[0msample\u001b[0m\u001b[1;33m(\u001b[0m\u001b[0mself\u001b[0m\u001b[1;33m.\u001b[0m\u001b[0mbeta\u001b[0m\u001b[1;33m)\u001b[0m\u001b[1;33m\u001b[0m\u001b[1;33m\u001b[0m\u001b[0m\n\u001b[0;32m    128\u001b[0m                 \u001b[0mnew_priorities\u001b[0m \u001b[1;33m=\u001b[0m \u001b[0mself\u001b[0m\u001b[1;33m.\u001b[0m\u001b[0mlearn\u001b[0m\u001b[1;33m(\u001b[0m\u001b[0mexperiences\u001b[0m\u001b[1;33m,\u001b[0m \u001b[0mis_weights\u001b[0m\u001b[1;33m,\u001b[0m \u001b[0mtarget_discount\u001b[0m\u001b[1;33m)\u001b[0m\u001b[1;33m\u001b[0m\u001b[1;33m\u001b[0m\u001b[0m\n\u001b[1;32m--> 129\u001b[1;33m                 \u001b[0mself\u001b[0m\u001b[1;33m.\u001b[0m\u001b[0mmemory\u001b[0m\u001b[1;33m.\u001b[0m\u001b[0mupdate_priorities\u001b[0m\u001b[1;33m(\u001b[0m\u001b[0mindices\u001b[0m\u001b[1;33m,\u001b[0m \u001b[0mnew_priorities\u001b[0m\u001b[1;33m)\u001b[0m\u001b[1;33m\u001b[0m\u001b[1;33m\u001b[0m\u001b[0m\n\u001b[0m\u001b[0;32m    130\u001b[0m \u001b[1;33m\u001b[0m\u001b[0m\n\u001b[0;32m    131\u001b[0m         \u001b[1;31m# update the target network every TARGET_UPDATE_EVERY time steps.\u001b[0m\u001b[1;33m\u001b[0m\u001b[1;33m\u001b[0m\u001b[1;33m\u001b[0m\u001b[0m\n",
      "\u001b[1;32mD:\\GitHub\\deep-reinforcement-learning\\dqn\\exercise\\dqn_agent_distributional.py\u001b[0m in \u001b[0;36mupdate_priorities\u001b[1;34m(self, indices, new_priorities)\u001b[0m\n\u001b[0;32m    339\u001b[0m             \u001b[0mself\u001b[0m\u001b[1;33m.\u001b[0m\u001b[0m_priorities_a\u001b[0m\u001b[1;33m[\u001b[0m\u001b[0mi\u001b[0m\u001b[1;33m]\u001b[0m \u001b[1;33m=\u001b[0m \u001b[0mnew_priority\u001b[0m \u001b[1;33m**\u001b[0m \u001b[0mself\u001b[0m\u001b[1;33m.\u001b[0m\u001b[0ma\u001b[0m\u001b[1;33m\u001b[0m\u001b[1;33m\u001b[0m\u001b[0m\n\u001b[0;32m    340\u001b[0m             \u001b[0mself\u001b[0m\u001b[1;33m.\u001b[0m\u001b[0m_p_a_sum\u001b[0m \u001b[1;33m=\u001b[0m \u001b[0mself\u001b[0m\u001b[1;33m.\u001b[0m\u001b[0m_p_a_sum\u001b[0m \u001b[1;33m-\u001b[0m \u001b[0mold_priority_a\u001b[0m \u001b[1;33m+\u001b[0m \u001b[0mself\u001b[0m\u001b[1;33m.\u001b[0m\u001b[0m_priorities_a\u001b[0m\u001b[1;33m[\u001b[0m\u001b[0mi\u001b[0m\u001b[1;33m]\u001b[0m\u001b[1;33m\u001b[0m\u001b[1;33m\u001b[0m\u001b[0m\n\u001b[1;32m--> 341\u001b[1;33m         \u001b[0mself\u001b[0m\u001b[1;33m.\u001b[0m\u001b[0m_max_priority\u001b[0m \u001b[1;33m=\u001b[0m \u001b[0mmax\u001b[0m\u001b[1;33m(\u001b[0m\u001b[0mself\u001b[0m\u001b[1;33m.\u001b[0m\u001b[0mpriorities\u001b[0m\u001b[1;33m)\u001b[0m\u001b[1;33m\u001b[0m\u001b[1;33m\u001b[0m\u001b[0m\n\u001b[0m\u001b[0;32m    342\u001b[0m \u001b[1;33m\u001b[0m\u001b[0m\n\u001b[0;32m    343\u001b[0m     \u001b[1;32mdef\u001b[0m \u001b[0mreset_multisteps\u001b[0m\u001b[1;33m(\u001b[0m\u001b[0mself\u001b[0m\u001b[1;33m)\u001b[0m\u001b[1;33m:\u001b[0m\u001b[1;33m\u001b[0m\u001b[1;33m\u001b[0m\u001b[0m\n",
      "\u001b[1;31mKeyboardInterrupt\u001b[0m: "
     ]
    }
   ],
   "source": [
    "def dqn(n_episodes=2000, max_t=1000,\n",
    "        eps_start=1.0, eps_end=0.01, eps_decay=0.995,\n",
    "        beta_start=0., beta_end=1.0,\n",
    "        continue_after_solved=True,\n",
    "        save_name=\"checkpoint_dueling_solved.pth\"):\n",
    "    \"\"\"Deep Q-Learning.\n",
    "    \n",
    "    Params\n",
    "    ======\n",
    "        n_episodes (int): maximum number of training episodes\n",
    "        max_t (int): maximum number of timesteps per episode\n",
    "        eps_start (float): starting value of epsilon, for epsilon-greedy action selection\n",
    "        eps_end (float): minimum value of epsilon\n",
    "        eps_decay (float): multiplicative factor (per episode) for decreasing epsilon\n",
    "    \"\"\"\n",
    "    scores = []                        # list containing scores from each episode\n",
    "    scores_window = deque(maxlen=100)  # last 100 scores\n",
    "    eps = eps_start                    # initialize epsilon\n",
    "    \n",
    "    prioritized = hasattr(agent, 'beta')  # if using prioritized experience replay, initialize beta\n",
    "    if prioritized:\n",
    "        print(\"Priority Used\")\n",
    "        agent.beta = beta_start\n",
    "        beta_increment = (beta_end - beta_start) / n_episodes\n",
    "    else:\n",
    "        print(\"Priority Not Used\")\n",
    "        \n",
    "    solved = False\n",
    "    epi_str_max_len = len(str(n_episodes))\n",
    "    for i_episode in range(1, n_episodes+1):\n",
    "        state = env.reset()\n",
    "        score = 0\n",
    "        for t in range(max_t):\n",
    "            action = agent.act(state, eps)\n",
    "            next_state, reward, done, _ = env.step(action)\n",
    "            agent.step(state, action, reward, next_state, done)\n",
    "            state = next_state\n",
    "            score += reward\n",
    "            if done:\n",
    "                break\n",
    "        else: # if not done (reached max_t)\n",
    "            agent.memory.reset_multisteps()\n",
    "        scores_window.append(score)       # save most recent score\n",
    "        scores.append(score)              # save most recent score\n",
    "        eps = max(eps_end, eps_decay*eps) # decrease epsilon\n",
    "        if prioritized:\n",
    "            agent.beta = min(beta_end, agent.beta + beta_increment)\n",
    "        print('\\rEpisode {:>{epi_max_len}d} | Current Score: {:>7.2f} | Average Score: {:>7.2f} | Epsilon: {:>6.4f}'\\\n",
    "              .format(i_episode, score, np.mean(scores_window), eps, epi_max_len=epi_str_max_len), end=\"\")\n",
    "        if prioritized:\n",
    "            print(' | A: {:>6.4f} | Beta: {:>6.4f}'.format(agent.a, agent.beta), end='')\n",
    "        print('          ', end='')\n",
    "        if i_episode % 100 == 0:\n",
    "            print('\\rEpisode {:>{epi_max_len}} | Current Score: {:>7.2f} | Average Score: {:>7.2f} | Epsilon: {:>6.4f}'\\\n",
    "                  .format(i_episode, score, np.mean(scores_window), eps, epi_max_len=epi_str_max_len), end='')\n",
    "            if prioritized:\n",
    "                print(' | A: {:>6.4f} | Beta: {:>6.4f}'.format(agent.a, agent.beta), end='')\n",
    "            print('          ')\n",
    "        if not solved and np.mean(scores_window)>=200.0:\n",
    "            print('\\nEnvironment solved in {:d} episodes!\\tAverage Score: {:.2f}'.format(i_episode-100, np.mean(scores_window)))\n",
    "            torch.save(agent.qnetwork_local.state_dict(), save_name)\n",
    "            solved = True\n",
    "            if not continue_after_solved:\n",
    "                break\n",
    "    return scores\n",
    "\n",
    "scores = dqn(**train_params,\n",
    "             continue_after_solved=True,\n",
    "             save_name=\"experiment_{}_{}_solved.pth\".format(EXPERIMENT_NAME, EXPERIMENT_DETAIL))\n",
    "\n",
    "# plot the scores\n",
    "plt.rcParams['figure.facecolor'] = 'w'\n",
    "fig = plt.figure()\n",
    "ax = fig.add_subplot(111)\n",
    "plt.plot(np.arange(len(scores)), scores)\n",
    "plt.ylabel('Score')\n",
    "plt.xlabel('Episode #')\n",
    "plt.show()"
   ]
  },
  {
   "cell_type": "code",
   "execution_count": 6,
   "metadata": {
    "ExecuteTime": {
     "end_time": "2019-03-15T04:01:07.392520Z",
     "start_time": "2019-03-15T04:01:07.381744Z"
    }
   },
   "outputs": [],
   "source": [
    "torch.save(agent.qnetwork_local.state_dict(), 'experiment_{}_{}_final.pth'.format(EXPERIMENT_NAME, EXPERIMENT_DETAIL))"
   ]
  },
  {
   "cell_type": "code",
   "execution_count": 6,
   "metadata": {
    "ExecuteTime": {
     "end_time": "2019-03-14T13:52:58.505449Z",
     "start_time": "2019-03-14T13:52:57.814204Z"
    }
   },
   "outputs": [],
   "source": [
    "agent.qnetwork_local.load_state_dict(torch.load('experiment_{}_{}_final.pth'.format(EXPERIMENT_NAME, EXPERIMENT_DETAIL)))"
   ]
  },
  {
   "cell_type": "markdown",
   "metadata": {},
   "source": [
    "### 4. Watch a Smart Agent!\n",
    "\n",
    "In the next code cell, you will load the trained weights from file to watch a smart agent!"
   ]
  },
  {
   "cell_type": "code",
   "execution_count": 7,
   "metadata": {
    "ExecuteTime": {
     "end_time": "2019-03-15T04:02:37.794033Z",
     "start_time": "2019-03-15T04:01:10.609572Z"
    }
   },
   "outputs": [
    {
     "name": "stdout",
     "output_type": "stream",
     "text": [
      "Game 0 Score: -175.9761536037233 in 301 steps\n",
      "Game 1 Score: -275.59087525106247 in 444 steps\n",
      "Game 2 Score: -214.1851331107951 in 972 steps\n",
      "Game 3 Score: -19.351780093025795 in 326 steps\n",
      "Game 4 Score: -85.89494787514053 in 431 steps\n",
      "Game 5 Score: -112.69443809302541 in 375 steps\n",
      "Game 6 Score: -201.55598116202134 in 281 steps\n",
      "Game 7 Score: -176.2579662884939 in 1000 steps\n",
      "Game 8 Score: -102.19087543456334 in 466 steps\n",
      "Game 9 Score: -54.874954644360315 in 516 steps\n"
     ]
    }
   ],
   "source": [
    "agent.qnetwork_local.noise(False)\n",
    "\n",
    "for i in range(10):\n",
    "    state = env.reset()\n",
    "    score = 0\n",
    "    for j in range(1000):\n",
    "        action = agent.act(state)\n",
    "        env.render()\n",
    "        state, reward, done, _ = env.step(action)\n",
    "        score += reward\n",
    "        if done:\n",
    "            break\n",
    "    print(\"Game {} Score: {} in {} steps\".format(i, score, j + 1))\n",
    "\n",
    "agent.qnetwork_local.noise(True)\n",
    "env.close()"
   ]
  },
  {
   "cell_type": "markdown",
   "metadata": {},
   "source": [
    "### 5. Explore\n",
    "\n",
    "In this exercise, you have implemented a DQN agent and demonstrated how to use it to solve an OpenAI Gym environment.  To continue your learning, you are encouraged to complete any (or all!) of the following tasks:\n",
    "- Amend the various hyperparameters and network architecture to see if you can get your agent to solve the environment faster.  Once you build intuition for the hyperparameters that work well with this environment, try solving a different OpenAI Gym task with discrete actions!\n",
    "- You may like to implement some improvements such as prioritized experience replay, Double DQN, or Dueling DQN! \n",
    "- Write a blog post explaining the intuition behind the DQN algorithm and demonstrating how to use it to solve an RL environment of your choosing.  "
   ]
  },
  {
   "cell_type": "code",
   "execution_count": 13,
   "metadata": {
    "ExecuteTime": {
     "end_time": "2019-03-15T04:04:03.077070Z",
     "start_time": "2019-03-15T04:04:03.065198Z"
    }
   },
   "outputs": [],
   "source": [
    "def reset_env():\n",
    "    state = torch.from_numpy(env.reset()).unsqueeze(0).cuda()\n",
    "    with torch.no_grad():\n",
    "        p = agent.qnetwork_local(state).softmax(dim=-1)\n",
    "        action = np.argmax(agent.supports.mul(p).sum(dim=-1, keepdim=False).cpu().numpy())\n",
    "        env.render()\n",
    "\n",
    "    p = p.cpu().squeeze().numpy()\n",
    "    supports = agent.supports.cpu().numpy()\n",
    "    plt.rcParams['figure.facecolor'] = 'w'\n",
    "    fig, axes = plt.subplots(2, 2, figsize=(8, 8))\n",
    "    for ax in axes.reshape(-1):\n",
    "        ax.grid(True)\n",
    "        ax.set_ylabel(\"estimated probability\")\n",
    "        ax.set_xlabel(\"supports\")\n",
    "    axes[0, 0].set_title(\"do nothing\")\n",
    "    axes[0, 1].set_title(\"left engine\")\n",
    "    axes[1, 0].set_title(\"main engine\")\n",
    "    axes[1, 1].set_title(\"right engine\")\n",
    "    axes[0, 0].bar(x=supports, height=p[0], width=10)\n",
    "    axes[0, 1].bar(x=supports, height=p[1], width=10)\n",
    "    axes[1, 0].bar(x=supports, height=p[2], width=10)\n",
    "    axes[1, 1].bar(x=supports, height=p[3], width=10)\n",
    "    plt.tight_layout()\n",
    "    \n",
    "    return action"
   ]
  },
  {
   "cell_type": "code",
   "execution_count": 14,
   "metadata": {
    "ExecuteTime": {
     "end_time": "2019-03-15T04:04:03.466843Z",
     "start_time": "2019-03-15T04:04:03.455871Z"
    }
   },
   "outputs": [],
   "source": [
    "def step(action, n_steps):\n",
    "    print(['nothing', 'left', 'main', 'right'][action])\n",
    "    score_gained = 0\n",
    "    for _ in range(n_steps):\n",
    "        state, reward, done, _ = env.step(action)\n",
    "        score_gained += reward\n",
    "        with torch.no_grad():\n",
    "            state = torch.from_numpy(state).unsqueeze(0).cuda()\n",
    "            p = agent.qnetwork_local(state).softmax(dim=-1)\n",
    "            action = np.argmax(agent.supports.mul(p).sum(dim=-1, keepdim=False).cpu().numpy())\n",
    "            env.render()\n",
    "        if done:\n",
    "            print(done)\n",
    "            break\n",
    "    print(score_gained)\n",
    "\n",
    "    p = p.cpu().squeeze().numpy()\n",
    "    supports = agent.supports.cpu().numpy()\n",
    "    plt.rcParams['figure.facecolor'] = 'w'\n",
    "    fig, axes = plt.subplots(2, 2, figsize=(8, 8))\n",
    "    for ax in axes.reshape(-1):\n",
    "        ax.grid(True)\n",
    "        ax.set_ylabel(\"estimated probability\")\n",
    "        ax.set_xlabel(\"supports\")\n",
    "    axes[0, 0].set_title(\"do nothing\")\n",
    "    axes[0, 1].set_title(\"left engine\")\n",
    "    axes[1, 0].set_title(\"main engine\")\n",
    "    axes[1, 1].set_title(\"right engine\")\n",
    "    axes[0, 0].bar(x=supports, height=p[0], width=10)\n",
    "    axes[0, 1].bar(x=supports, height=p[1], width=10)\n",
    "    axes[1, 0].bar(x=supports, height=p[2], width=10)\n",
    "    axes[1, 1].bar(x=supports, height=p[3], width=10)\n",
    "    plt.tight_layout()\n",
    "    \n",
    "    return action"
   ]
  },
  {
   "cell_type": "code",
   "execution_count": 15,
   "metadata": {
    "ExecuteTime": {
     "end_time": "2019-03-15T04:04:05.640164Z",
     "start_time": "2019-03-15T04:04:04.332534Z"
    }
   },
   "outputs": [
    {
     "data": {
      "image/png": "[encoded data removed]",
      "text/plain": [
       "<Figure size 576x576 with 4 Axes>"
      ]
     },
     "metadata": {},
     "output_type": "display_data"
    }
   ],
   "source": [
    "action = reset_env()"
   ]
  },
  {
   "cell_type": "code",
   "execution_count": 19,
   "metadata": {
    "ExecuteTime": {
     "end_time": "2019-03-15T04:04:41.483989Z",
     "start_time": "2019-03-15T04:04:39.670715Z"
    }
   },
   "outputs": [
    {
     "name": "stdout",
     "output_type": "stream",
     "text": [
      "main\n",
      "27.778788434483346\n"
     ]
    },
    {
     "data": {
      "image/png": "[encoded data removed]",
      "text/plain": [
       "<Figure size 576x576 with 4 Axes>"
      ]
     },
     "metadata": {},
     "output_type": "display_data"
    }
   ],
   "source": [
    "action = step(action, 50)"
   ]
  },
  {
   "cell_type": "code",
   "execution_count": 20,
   "metadata": {
    "ExecuteTime": {
     "end_time": "2019-03-15T04:05:30.519869Z",
     "start_time": "2019-03-15T04:05:30.491240Z"
    }
   },
   "outputs": [],
   "source": [
    "env.close()"
   ]
  },
  {
   "cell_type": "markdown",
   "metadata": {},
   "source": [
    "---"
   ]
  }
 ],
 "metadata": {
  "kernelspec": {
   "display_name": "Python 3",
   "language": "python",
   "name": "python3"
  },
  "language_info": {
   "codemirror_mode": {
    "name": "ipython",
    "version": 3
   },
   "file_extension": ".py",
   "mimetype": "text/x-python",
   "name": "python",
   "nbconvert_exporter": "python",
   "pygments_lexer": "ipython3",
   "version": "3.6.7"
  },
  "toc": {
   "base_numbering": 1,
   "nav_menu": {},
   "number_sections": true,
   "sideBar": true,
   "skip_h1_title": false,
   "title_cell": "Table of Contents",
   "title_sidebar": "Contents",
   "toc_cell": false,
   "toc_position": {},
   "toc_section_display": true,
   "toc_window_display": false
  }
 },
 "nbformat": 4,
 "nbformat_minor": 2
}
