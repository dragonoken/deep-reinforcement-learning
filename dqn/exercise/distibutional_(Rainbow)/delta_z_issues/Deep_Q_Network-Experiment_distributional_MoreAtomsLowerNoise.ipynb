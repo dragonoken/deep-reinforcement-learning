{
 "cells": [
  {
   "cell_type": "markdown",
   "metadata": {},
   "source": [
    "# Deep Q-Network (DQN)\n",
    "---\n",
    "In this notebook, you will implement a DQN agent with OpenAI Gym's LunarLander-v2 environment.\n",
    "\n",
    "### 1. Import the Necessary Packages"
   ]
  },
  {
   "cell_type": "code",
   "execution_count": 1,
   "metadata": {
    "ExecuteTime": {
     "end_time": "2019-03-14T06:52:15.701837Z",
     "start_time": "2019-03-14T06:52:14.660838Z"
    }
   },
   "outputs": [],
   "source": [
    "import gym\n",
    "import random\n",
    "import torch\n",
    "import numpy as np\n",
    "from collections import deque\n",
    "import matplotlib.pyplot as plt\n",
    "%matplotlib inline\n",
    "\n",
    "EXPERIMENT_NAME   = \"rainbow\"\n",
    "EXPERIMENT_DETAIL = \"MoreAtomsLowerNoise\""
   ]
  },
  {
   "cell_type": "markdown",
   "metadata": {},
   "source": [
    "### 2. Instantiate the Environment and Agent\n",
    "\n",
    "Initialize the environment in the code cell below."
   ]
  },
  {
   "cell_type": "code",
   "execution_count": 2,
   "metadata": {
    "ExecuteTime": {
     "end_time": "2019-03-14T06:52:16.505840Z",
     "start_time": "2019-03-14T06:52:15.712839Z"
    }
   },
   "outputs": [
    {
     "name": "stdout",
     "output_type": "stream",
     "text": [
      "State shape:  (8,)\n",
      "Number of actions:  4\n"
     ]
    }
   ],
   "source": [
    "env = gym.make('LunarLander-v2')\n",
    "env.seed(0)\n",
    "print('State shape: ', env.observation_space.shape)\n",
    "print('Number of actions: ', env.action_space.n)"
   ]
  },
  {
   "cell_type": "markdown",
   "metadata": {},
   "source": [
    "Before running the next code cell, familiarize yourself with the code in **Step 2** and **Step 3** of this notebook, along with the code in `dqn_agent.py` and `model.py`.  Once you have an understanding of how the different files work together, \n",
    "- Define a neural network architecture in `model.py` that maps states to action values.  This file is mostly empty - it's up to you to define your own deep Q-network!\n",
    "- Finish the `learn` method in the `Agent` class in `dqn_agent.py`.  The sampled batch of experience tuples is already provided for you; you need only use the local and target Q-networks to compute the loss, before taking a step towards minimizing the loss.\n",
    "\n",
    "Once you have completed the code in `dqn_agent.py` and `model.py`, run the code cell below.  (_If you end up needing to make multiple changes and get unexpected behavior, please restart the kernel and run the cells from the beginning of the notebook!_)\n",
    "\n",
    "You can find the solution files, along with saved model weights for a trained agent, in the `solution/` folder.  (_Note that there are many ways to solve this exercise, and the \"solution\" is just one way of approaching the problem, to yield a trained agent._)"
   ]
  },
  {
   "cell_type": "code",
   "execution_count": 3,
   "metadata": {
    "ExecuteTime": {
     "end_time": "2019-03-14T06:52:32.518838Z",
     "start_time": "2019-03-14T06:52:32.503840Z"
    }
   },
   "outputs": [],
   "source": [
    "# Hyperparameters\n",
    "\n",
    "hyperparams = {\n",
    "    'seed':                101,\n",
    "    'buffer_size':         int(1e5),\n",
    "    'batch_size':          32,\n",
    "    'start_since':         int(8e3),\n",
    "    'gamma':               0.99,\n",
    "    'target_update_every': int(32e2),\n",
    "    'tau':                 1,\n",
    "    'lr':                  1e-4,\n",
    "    'weight_decay':        0,\n",
    "    'update_every':        4,\n",
    "    'priority_eps':        1e-5,\n",
    "    'a':                   0.5,\n",
    "    'n_multisteps':        3,\n",
    "    'v_min':               -100,\n",
    "    'v_max':               300,\n",
    "    'clip':                None,\n",
    "    'n_atoms':             101,\n",
    "    'initial_sigma':       0.05,\n",
    "    'linear_type':         'noisy'\n",
    "}\n",
    "\n",
    "# Training Parameters\n",
    "\n",
    "train_params = {\n",
    "    'n_episodes': 2000, 'max_t':    1000,\n",
    "    'eps_start':  0.,   'eps_end':  0.,  'eps_decay': 0.,\n",
    "    'beta_start': 0.4,   'beta_end': 1.0\n",
    "}"
   ]
  },
  {
   "cell_type": "code",
   "execution_count": 4,
   "metadata": {
    "ExecuteTime": {
     "end_time": "2019-03-14T06:52:37.297840Z",
     "start_time": "2019-03-14T06:52:33.152840Z"
    }
   },
   "outputs": [],
   "source": [
    "from dqn_agent import Agent\n",
    "\n",
    "agent = Agent(state_size=8, action_size=4, **hyperparams)"
   ]
  },
  {
   "cell_type": "markdown",
   "metadata": {},
   "source": [
    "### 3. Train the Agent with DQN\n",
    "\n",
    "Run the code cell below to train the agent from scratch.  You are welcome to amend the supplied values of the parameters in the function, to try to see if you can get better performance!"
   ]
  },
  {
   "cell_type": "code",
   "execution_count": 5,
   "metadata": {
    "ExecuteTime": {
     "end_time": "2019-03-14T12:20:13.134488Z",
     "start_time": "2019-03-14T06:52:37.306839Z"
    },
    "scrolled": false
   },
   "outputs": [
    {
     "name": "stdout",
     "output_type": "stream",
     "text": [
      "Priority Used\n",
      "Episode  100 | Current Score: -433.09 | Average Score: -195.96 | Epsilon: 0.0000 | A: 0.5000 | Beta: 0.4300          \n",
      "Episode  200 | Current Score: -250.94 | Average Score: -276.15 | Epsilon: 0.0000 | A: 0.5000 | Beta: 0.4600          \n",
      "Episode  300 | Current Score:    0.19 | Average Score: -176.03 | Epsilon: 0.0000 | A: 0.5000 | Beta: 0.4900          \n",
      "Episode  400 | Current Score: -269.22 | Average Score: -194.43 | Epsilon: 0.0000 | A: 0.5000 | Beta: 0.5200          \n",
      "Episode  500 | Current Score:  -44.05 | Average Score: -158.20 | Epsilon: 0.0000 | A: 0.5000 | Beta: 0.5500          \n",
      "Episode  600 | Current Score:  -64.26 | Average Score: -125.39 | Epsilon: 0.0000 | A: 0.5000 | Beta: 0.5800          \n",
      "Episode  700 | Current Score: -204.31 | Average Score: -126.15 | Epsilon: 0.0000 | A: 0.5000 | Beta: 0.6100          \n",
      "Episode  800 | Current Score: -181.90 | Average Score: -166.18 | Epsilon: 0.0000 | A: 0.5000 | Beta: 0.6400          \n",
      "Episode  900 | Current Score:  -77.98 | Average Score: -147.26 | Epsilon: 0.0000 | A: 0.5000 | Beta: 0.6700          \n",
      "Episode 1000 | Current Score: -255.02 | Average Score: -165.42 | Epsilon: 0.0000 | A: 0.5000 | Beta: 0.7000          \n",
      "Episode 1100 | Current Score: -255.68 | Average Score: -141.05 | Epsilon: 0.0000 | A: 0.5000 | Beta: 0.7300          \n",
      "Episode 1200 | Current Score: -119.09 | Average Score: -129.03 | Epsilon: 0.0000 | A: 0.5000 | Beta: 0.7600          \n",
      "Episode 1300 | Current Score:  157.35 | Average Score: -115.76 | Epsilon: 0.0000 | A: 0.5000 | Beta: 0.7900          \n",
      "Episode 1400 | Current Score: -318.74 | Average Score: -191.34 | Epsilon: 0.0000 | A: 0.5000 | Beta: 0.8200          \n",
      "Episode 1500 | Current Score: -211.28 | Average Score: -143.57 | Epsilon: 0.0000 | A: 0.5000 | Beta: 0.8500          \n",
      "Episode 1600 | Current Score:  -83.55 | Average Score: -141.34 | Epsilon: 0.0000 | A: 0.5000 | Beta: 0.8800          \n",
      "Episode 1700 | Current Score:  138.59 | Average Score: -120.65 | Epsilon: 0.0000 | A: 0.5000 | Beta: 0.9100          \n",
      "Episode 1800 | Current Score:  263.24 | Average Score: -111.97 | Epsilon: 0.0000 | A: 0.5000 | Beta: 0.9400          \n",
      "Episode 1900 | Current Score:  -61.51 | Average Score:  -90.17 | Epsilon: 0.0000 | A: 0.5000 | Beta: 0.9700          \n",
      "Episode 2000 | Current Score:  201.24 | Average Score:  -85.50 | Epsilon: 0.0000 | A: 0.5000 | Beta: 1.0000          \n"
     ]
    },
    {
     "data": {
      "image/png": "[encoded data removed]",
      "text/plain": [
       "<Figure size 432x288 with 1 Axes>"
      ]
     },
     "metadata": {},
     "output_type": "display_data"
    }
   ],
   "source": [
    "def dqn(n_episodes=2000, max_t=1000,\n",
    "        eps_start=1.0, eps_end=0.01, eps_decay=0.995,\n",
    "        beta_start=0., beta_end=1.0,\n",
    "        continue_after_solved=True,\n",
    "        save_name=\"checkpoint_dueling_solved.pth\"):\n",
    "    \"\"\"Deep Q-Learning.\n",
    "    \n",
    "    Params\n",
    "    ======\n",
    "        n_episodes (int): maximum number of training episodes\n",
    "        max_t (int): maximum number of timesteps per episode\n",
    "        eps_start (float): starting value of epsilon, for epsilon-greedy action selection\n",
    "        eps_end (float): minimum value of epsilon\n",
    "        eps_decay (float): multiplicative factor (per episode) for decreasing epsilon\n",
    "    \"\"\"\n",
    "    scores = []                        # list containing scores from each episode\n",
    "    scores_window = deque(maxlen=100)  # last 100 scores\n",
    "    eps = eps_start                    # initialize epsilon\n",
    "    \n",
    "    prioritized = hasattr(agent, 'beta')  # if using prioritized experience replay, initialize beta\n",
    "    if prioritized:\n",
    "        print(\"Priority Used\")\n",
    "        agent.beta = beta_start\n",
    "        beta_increment = (beta_end - beta_start) / n_episodes\n",
    "    else:\n",
    "        print(\"Priority Not Used\")\n",
    "        \n",
    "    solved = False\n",
    "    epi_str_max_len = len(str(n_episodes))\n",
    "    for i_episode in range(1, n_episodes+1):\n",
    "        state = env.reset()\n",
    "        score = 0\n",
    "        for t in range(max_t):\n",
    "            action = agent.act(state, eps)\n",
    "            next_state, reward, done, _ = env.step(action)\n",
    "            agent.step(state, action, reward, next_state, done)\n",
    "            state = next_state\n",
    "            score += reward\n",
    "            if done:\n",
    "                break\n",
    "        else: # if not done (reached max_t)\n",
    "            agent.memory.reset_multisteps()\n",
    "        scores_window.append(score)       # save most recent score\n",
    "        scores.append(score)              # save most recent score\n",
    "        eps = max(eps_end, eps_decay*eps) # decrease epsilon\n",
    "        if prioritized:\n",
    "            agent.beta = min(beta_end, agent.beta + beta_increment)\n",
    "        print('\\rEpisode {:>{epi_max_len}d} | Current Score: {:>7.2f} | Average Score: {:>7.2f} | Epsilon: {:>6.4f}'\\\n",
    "              .format(i_episode, score, np.mean(scores_window), eps, epi_max_len=epi_str_max_len), end=\"\")\n",
    "        if prioritized:\n",
    "            print(' | A: {:>6.4f} | Beta: {:>6.4f}'.format(agent.a, agent.beta), end='')\n",
    "        print('          ', end='')\n",
    "        if i_episode % 100 == 0:\n",
    "            print('\\rEpisode {:>{epi_max_len}} | Current Score: {:>7.2f} | Average Score: {:>7.2f} | Epsilon: {:>6.4f}'\\\n",
    "                  .format(i_episode, score, np.mean(scores_window), eps, epi_max_len=epi_str_max_len), end='')\n",
    "            if prioritized:\n",
    "                print(' | A: {:>6.4f} | Beta: {:>6.4f}'.format(agent.a, agent.beta), end='')\n",
    "            print('          ')\n",
    "        if not solved and np.mean(scores_window)>=200.0:\n",
    "            print('\\nEnvironment solved in {:d} episodes!\\tAverage Score: {:.2f}'.format(i_episode-100, np.mean(scores_window)))\n",
    "            torch.save(agent.qnetwork_local.state_dict(), save_name)\n",
    "            solved = True\n",
    "            if not continue_after_solved:\n",
    "                break\n",
    "    return scores\n",
    "\n",
    "scores = dqn(**train_params,\n",
    "             continue_after_solved=True,\n",
    "             save_name=\"experiment_{}_{}_solved.pth\".format(EXPERIMENT_NAME, EXPERIMENT_DETAIL))\n",
    "\n",
    "# plot the scores\n",
    "plt.rcParams['figure.facecolor'] = 'w'\n",
    "fig = plt.figure()\n",
    "ax = fig.add_subplot(111)\n",
    "plt.plot(np.arange(len(scores)), scores)\n",
    "plt.ylabel('Score')\n",
    "plt.xlabel('Episode #')\n",
    "plt.show()"
   ]
  },
  {
   "cell_type": "code",
   "execution_count": 6,
   "metadata": {
    "ExecuteTime": {
     "end_time": "2019-03-14T12:20:13.245483Z",
     "start_time": "2019-03-14T12:20:13.139485Z"
    }
   },
   "outputs": [
    {
     "ename": "IndexError",
     "evalue": "tuple index out of range",
     "output_type": "error",
     "traceback": [
      "\u001b[1;31m---------------------------------------------------------------------------\u001b[0m",
      "\u001b[1;31mIndexError\u001b[0m                                Traceback (most recent call last)",
      "\u001b[1;32m<ipython-input-6-3a884ceb1376>\u001b[0m in \u001b[0;36m<module>\u001b[1;34m\u001b[0m\n\u001b[1;32m----> 1\u001b[1;33m \u001b[0mtorch\u001b[0m\u001b[1;33m.\u001b[0m\u001b[0msave\u001b[0m\u001b[1;33m(\u001b[0m\u001b[0magent\u001b[0m\u001b[1;33m.\u001b[0m\u001b[0mqnetwork_local\u001b[0m\u001b[1;33m.\u001b[0m\u001b[0mstate_dict\u001b[0m\u001b[1;33m(\u001b[0m\u001b[1;33m)\u001b[0m\u001b[1;33m,\u001b[0m \u001b[1;34m'experiment_{}_{}_final{}.pth'\u001b[0m\u001b[1;33m.\u001b[0m\u001b[0mformat\u001b[0m\u001b[1;33m(\u001b[0m\u001b[0mEXPERIMENT_NAME\u001b[0m\u001b[1;33m,\u001b[0m \u001b[0mEXPERIMENT_DETAIL\u001b[0m\u001b[1;33m)\u001b[0m\u001b[1;33m)\u001b[0m\u001b[1;33m\u001b[0m\u001b[1;33m\u001b[0m\u001b[0m\n\u001b[0m",
      "\u001b[1;31mIndexError\u001b[0m: tuple index out of range"
     ]
    }
   ],
   "source": [
    "torch.save(agent.qnetwork_local.state_dict(), 'experiment_{}_{}_final{}.pth'.format(EXPERIMENT_NAME, EXPERIMENT_DETAIL))"
   ]
  },
  {
   "cell_type": "code",
   "execution_count": null,
   "metadata": {
    "ExecuteTime": {
     "start_time": "2019-03-14T06:40:44.462Z"
    }
   },
   "outputs": [],
   "source": [
    "agent.qnetwork_local.load_state_dict(torch.load('experiment_{}_{}_final.pth'.format(EXPERIMENT_NAME, EXPERIMENT_DETAIL)))"
   ]
  },
  {
   "cell_type": "markdown",
   "metadata": {},
   "source": [
    "### 4. Watch a Smart Agent!\n",
    "\n",
    "In the next code cell, you will load the trained weights from file to watch a smart agent!"
   ]
  },
  {
   "cell_type": "code",
   "execution_count": 7,
   "metadata": {
    "ExecuteTime": {
     "end_time": "2019-03-11T06:38:23.596188Z",
     "start_time": "2019-03-11T06:37:42.888160Z"
    }
   },
   "outputs": [
    {
     "name": "stdout",
     "output_type": "stream",
     "text": [
      "Game 0 Score: 275.5468165602048 in 565 steps\n",
      "Game 1 Score: 255.57421615425778 in 161 steps\n",
      "Game 2 Score: 270.9422778045492 in 290 steps\n",
      "Game 3 Score: 286.1995573765409 in 212 steps\n",
      "Game 4 Score: 300.06824144795746 in 201 steps\n",
      "Game 5 Score: 291.49152708229053 in 212 steps\n",
      "Game 6 Score: 261.24988226550124 in 172 steps\n",
      "Game 7 Score: 251.0349462653667 in 180 steps\n",
      "Game 8 Score: 271.09427324697305 in 177 steps\n",
      "Game 9 Score: 299.31763208015616 in 198 steps\n"
     ]
    }
   ],
   "source": [
    "agent.qnetwork_local.noise(False)\n",
    "\n",
    "for i in range(10):\n",
    "    state = env.reset()\n",
    "    score = 0\n",
    "    for j in range(1000):\n",
    "        action = agent.act(state)\n",
    "        env.render()\n",
    "        state, reward, done, _ = env.step(action)\n",
    "        score += reward\n",
    "        if done:\n",
    "            break\n",
    "    print(\"Game {} Score: {} in {} steps\".format(i, score, j + 1))\n",
    "\n",
    "agent.qnetwork_local.noise(True)\n",
    "env.close()"
   ]
  },
  {
   "cell_type": "markdown",
   "metadata": {},
   "source": [
    "### 5. Explore\n",
    "\n",
    "In this exercise, you have implemented a DQN agent and demonstrated how to use it to solve an OpenAI Gym environment.  To continue your learning, you are encouraged to complete any (or all!) of the following tasks:\n",
    "- Amend the various hyperparameters and network architecture to see if you can get your agent to solve the environment faster.  Once you build intuition for the hyperparameters that work well with this environment, try solving a different OpenAI Gym task with discrete actions!\n",
    "- You may like to implement some improvements such as prioritized experience replay, Double DQN, or Dueling DQN! \n",
    "- Write a blog post explaining the intuition behind the DQN algorithm and demonstrating how to use it to solve an RL environment of your choosing.  "
   ]
  },
  {
   "cell_type": "code",
   "execution_count": null,
   "metadata": {},
   "outputs": [],
   "source": [
    "def reset_env():\n",
    "    state = torch.from_numpy(env.reset()).unsqueeze(0).cuda()\n",
    "    with torch.no_grad():\n",
    "        p = agent.qnetwork_local(state).softmax(dim=-1)\n",
    "        action = np.argmax(agent.supports.mul(p).sum(dim=-1, keepdim=False).cpu().numpy())\n",
    "        env.render()\n",
    "\n",
    "    p = p.cpu().squeeze().numpy()\n",
    "    supports = agent.supports.cpu().numpy()\n",
    "    plt.rcParams['figure.facecolor'] = 'w'\n",
    "    fig, axes = plt.subplots(2, 2, figsize=(8, 8))\n",
    "    for ax in axes.reshape(-1):\n",
    "        ax.grid(True)\n",
    "        ax.set_ylabel(\"estimated probability\")\n",
    "        ax.set_xlabel(\"supports\")\n",
    "    axes[0, 0].set_title(\"do nothing\")\n",
    "    axes[0, 1].set_title(\"left engine\")\n",
    "    axes[1, 0].set_title(\"main engine\")\n",
    "    axes[1, 1].set_title(\"right engine\")\n",
    "    axes[0, 0].bar(x=supports, height=p[0], width=5)\n",
    "    axes[0, 1].bar(x=supports, height=p[1], width=5)\n",
    "    axes[1, 0].bar(x=supports, height=p[2], width=5)\n",
    "    axes[1, 1].bar(x=supports, height=p[3], width=5)\n",
    "    plt.tight_layout()\n",
    "    \n",
    "    return action"
   ]
  },
  {
   "cell_type": "code",
   "execution_count": null,
   "metadata": {},
   "outputs": [],
   "source": [
    "def step(action, n_steps):\n",
    "    print(['nothing', 'left', 'main', 'right'][action])\n",
    "    score_gained = 0\n",
    "    for _ in range(n_steps):\n",
    "        state, reward, done, _ = env.step(action)\n",
    "        score_gained += reward\n",
    "        with torch.no_grad():\n",
    "            state = torch.from_numpy(state).unsqueeze(0).cuda()\n",
    "            p = agent.qnetwork_local(state).softmax(dim=-1)\n",
    "            action = np.argmax(agent.supports.mul(p).sum(dim=-1, keepdim=False).cpu().numpy())\n",
    "            env.render()\n",
    "        if done:\n",
    "            print(done)\n",
    "            break\n",
    "    print(score_gained)\n",
    "\n",
    "    p = p.cpu().squeeze().numpy()\n",
    "    supports = agent.supports.cpu().numpy()\n",
    "    plt.rcParams['figure.facecolor'] = 'w'\n",
    "    fig, axes = plt.subplots(2, 2, figsize=(8, 8))\n",
    "    for ax in axes.reshape(-1):\n",
    "        ax.grid(True)\n",
    "        ax.set_ylabel(\"estimated probability\")\n",
    "        ax.set_xlabel(\"supports\")\n",
    "    axes[0, 0].set_title(\"do nothing\")\n",
    "    axes[0, 1].set_title(\"left engine\")\n",
    "    axes[1, 0].set_title(\"main engine\")\n",
    "    axes[1, 1].set_title(\"right engine\")\n",
    "    axes[0, 0].bar(x=supports, height=p[0], width=5)\n",
    "    axes[0, 1].bar(x=supports, height=p[1], width=5)\n",
    "    axes[1, 0].bar(x=supports, height=p[2], width=5)\n",
    "    axes[1, 1].bar(x=supports, height=p[3], width=5)\n",
    "    plt.tight_layout()\n",
    "    \n",
    "    return action"
   ]
  },
  {
   "cell_type": "code",
   "execution_count": null,
   "metadata": {},
   "outputs": [],
   "source": [
    "action = reset_env()"
   ]
  },
  {
   "cell_type": "code",
   "execution_count": null,
   "metadata": {},
   "outputs": [],
   "source": [
    "action = step(action)"
   ]
  },
  {
   "cell_type": "code",
   "execution_count": null,
   "metadata": {},
   "outputs": [],
   "source": [
    "env.close()"
   ]
  }
 ],
 "metadata": {
  "kernelspec": {
   "display_name": "Python 3",
   "language": "python",
   "name": "python3"
  },
  "language_info": {
   "codemirror_mode": {
    "name": "ipython",
    "version": 3
   },
   "file_extension": ".py",
   "mimetype": "text/x-python",
   "name": "python",
   "nbconvert_exporter": "python",
   "pygments_lexer": "ipython3",
   "version": "3.6.7"
  },
  "toc": {
   "base_numbering": 1,
   "nav_menu": {},
   "number_sections": true,
   "sideBar": true,
   "skip_h1_title": false,
   "title_cell": "Table of Contents",
   "title_sidebar": "Contents",
   "toc_cell": false,
   "toc_position": {},
   "toc_section_display": true,
   "toc_window_display": false
  }
 },
 "nbformat": 4,
 "nbformat_minor": 2
}
