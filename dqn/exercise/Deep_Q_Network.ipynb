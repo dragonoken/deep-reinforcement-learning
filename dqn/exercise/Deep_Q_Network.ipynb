{
 "cells": [
  {
   "cell_type": "markdown",
   "metadata": {},
   "source": [
    "# Deep Q-Network (DQN)\n",
    "---\n",
    "In this notebook, you will implement a DQN agent with OpenAI Gym's LunarLander-v2 environment.\n",
    "\n",
    "### 1. Import the Necessary Packages"
   ]
  },
  {
   "cell_type": "code",
   "execution_count": 1,
   "metadata": {
    "ExecuteTime": {
     "end_time": "2019-03-08T08:16:14.821332Z",
     "start_time": "2019-03-08T08:16:13.123561Z"
    }
   },
   "outputs": [],
   "source": [
    "import gym\n",
    "import random\n",
    "import torch\n",
    "import numpy as np\n",
    "from collections import deque\n",
    "import matplotlib.pyplot as plt\n",
    "%matplotlib inline"
   ]
  },
  {
   "cell_type": "markdown",
   "metadata": {},
   "source": [
    "### 2. Instantiate the Environment and Agent\n",
    "\n",
    "Initialize the environment in the code cell below."
   ]
  },
  {
   "cell_type": "code",
   "execution_count": 2,
   "metadata": {
    "ExecuteTime": {
     "end_time": "2019-03-08T08:16:15.552591Z",
     "start_time": "2019-03-08T08:16:14.823330Z"
    }
   },
   "outputs": [
    {
     "name": "stdout",
     "output_type": "stream",
     "text": [
      "State shape:  (8,)\n",
      "Number of actions:  4\n"
     ]
    }
   ],
   "source": [
    "env = gym.make('LunarLander-v2')\n",
    "env.seed(0)\n",
    "print('State shape: ', env.observation_space.shape)\n",
    "print('Number of actions: ', env.action_space.n)"
   ]
  },
  {
   "cell_type": "markdown",
   "metadata": {},
   "source": [
    "Before running the next code cell, familiarize yourself with the code in **Step 2** and **Step 3** of this notebook, along with the code in `dqn_agent.py` and `model.py`.  Once you have an understanding of how the different files work together, \n",
    "- Define a neural network architecture in `model.py` that maps states to action values.  This file is mostly empty - it's up to you to define your own deep Q-network!\n",
    "- Finish the `learn` method in the `Agent` class in `dqn_agent.py`.  The sampled batch of experience tuples is already provided for you; you need only use the local and target Q-networks to compute the loss, before taking a step towards minimizing the loss.\n",
    "\n",
    "Once you have completed the code in `dqn_agent.py` and `model.py`, run the code cell below.  (_If you end up needing to make multiple changes and get unexpected behavior, please restart the kernel and run the cells from the beginning of the notebook!_)\n",
    "\n",
    "You can find the solution files, along with saved model weights for a trained agent, in the `solution/` folder.  (_Note that there are many ways to solve this exercise, and the \"solution\" is just one way of approaching the problem, to yield a trained agent._)"
   ]
  },
  {
   "cell_type": "code",
   "execution_count": 3,
   "metadata": {
    "ExecuteTime": {
     "end_time": "2019-03-08T08:16:23.261567Z",
     "start_time": "2019-03-08T08:16:15.557594Z"
    }
   },
   "outputs": [],
   "source": [
    "from dqn_agent import Agent\n",
    "\n",
    "agent = Agent(state_size=8, action_size=4, seed=0)\n",
    "\n",
    "# watch an untrained agent\n",
    "state = env.reset()\n",
    "for j in range(200):\n",
    "    action = agent.act(state)\n",
    "    env.render()\n",
    "    state, reward, done, _ = env.step(action)\n",
    "    if done:\n",
    "        break \n",
    "        \n",
    "env.close()"
   ]
  },
  {
   "cell_type": "markdown",
   "metadata": {},
   "source": [
    "### 3. Train the Agent with DQN\n",
    "\n",
    "Run the code cell below to train the agent from scratch.  You are welcome to amend the supplied values of the parameters in the function, to try to see if you can get better performance!"
   ]
  },
  {
   "cell_type": "code",
   "execution_count": 4,
   "metadata": {
    "ExecuteTime": {
     "end_time": "2019-03-08T09:40:59.686948Z",
     "start_time": "2019-03-08T08:17:22.421902Z"
    },
    "scrolled": true
   },
   "outputs": [
    {
     "name": "stdout",
     "output_type": "stream",
     "text": [
      "Priority Used\n",
      "Episode  100 | Current Score: -124.65 | Average Score: -168.91 | Epsilon: 0.6058 | A: 0.6400 | Beta: 0.1000          \n",
      "Episode  200 | Current Score:  -44.50 | Average Score: -144.87 | Epsilon: 0.3670 | A: 0.6800 | Beta: 0.2000          \n",
      "Episode  300 | Current Score:  -33.96 | Average Score:  -94.65 | Epsilon: 0.2223 | A: 0.7200 | Beta: 0.3000          \n",
      "Episode  400 | Current Score:  -60.78 | Average Score:  -53.97 | Epsilon: 0.1347 | A: 0.7600 | Beta: 0.4000          \n",
      "Episode  500 | Current Score:  -54.67 | Average Score:  -14.35 | Epsilon: 0.0816 | A: 0.8000 | Beta: 0.5000          \n",
      "Episode  600 | Current Score:   81.82 | Average Score:   63.41 | Epsilon: 0.0494 | A: 0.8400 | Beta: 0.6000          \n",
      "Episode  700 | Current Score:  252.59 | Average Score:   65.38 | Epsilon: 0.0299 | A: 0.8800 | Beta: 0.7000          \n",
      "Episode  800 | Current Score:  229.33 | Average Score:  116.49 | Epsilon: 0.0181 | A: 0.9200 | Beta: 0.8000          \n",
      "Episode  900 | Current Score:  248.91 | Average Score:  175.75 | Epsilon: 0.0110 | A: 0.9600 | Beta: 0.9000          \n",
      "Episode 1000 | Current Score:  267.04 | Average Score:  175.15 | Epsilon: 0.0100 | A: 1.0000 | Beta: 1.0000          \n"
     ]
    },
    {
     "data": {
      "image/png": "[encoded data removed]",
      "text/plain": [
       "<Figure size 432x288 with 1 Axes>"
      ]
     },
     "metadata": {},
     "output_type": "display_data"
    }
   ],
   "source": [
    "def dqn(n_episodes=2000, max_t=1000,\n",
    "        eps_start=1.0, eps_end=0.01, eps_decay=0.995,\n",
    "        a_start=0., a_end=1.0,\n",
    "        beta_start=0., beta_end=1.0,\n",
    "        continue_after_solved=True,\n",
    "        save_name=\"checkpoint_dueling_solved.pth\"):\n",
    "    \"\"\"Deep Q-Learning.\n",
    "    \n",
    "    Params\n",
    "    ======\n",
    "        n_episodes (int): maximum number of training episodes\n",
    "        max_t (int): maximum number of timesteps per episode\n",
    "        eps_start (float): starting value of epsilon, for epsilon-greedy action selection\n",
    "        eps_end (float): minimum value of epsilon\n",
    "        eps_decay (float): multiplicative factor (per episode) for decreasing epsilon\n",
    "    \"\"\"\n",
    "    scores = []                        # list containing scores from each episode\n",
    "    scores_window = deque(maxlen=100)  # last 100 scores\n",
    "    eps = eps_start                    # initialize epsilon\n",
    "    \n",
    "    prioritized = hasattr(agent, 'beta')  # if using prioritized experience replay, initialize beta\n",
    "    if prioritized:\n",
    "        print(\"Priority Used\")\n",
    "        agent.a = a_start\n",
    "        agent.beta = beta_start\n",
    "        a_increment = (a_end - a_start) / n_episodes\n",
    "        beta_increment = (beta_end - beta_start) / n_episodes\n",
    "    else:\n",
    "        print(\"Priority Not Used\")\n",
    "        \n",
    "    solved = False\n",
    "    epi_str_max_len = len(str(n_episodes))\n",
    "    for i_episode in range(1, n_episodes+1):\n",
    "        state = env.reset()\n",
    "        score = 0\n",
    "        for t in range(max_t):\n",
    "            action = agent.act(state, eps)\n",
    "            next_state, reward, done, _ = env.step(action)\n",
    "            agent.step(state, action, reward, next_state, done)\n",
    "            state = next_state\n",
    "            score += reward\n",
    "            if done:\n",
    "                break\n",
    "        scores_window.append(score)       # save most recent score\n",
    "        scores.append(score)              # save most recent score\n",
    "        eps = max(eps_end, eps_decay*eps) # decrease epsilon\n",
    "        if prioritized:\n",
    "            agent.a = min(a_end, agent.a + a_increment)\n",
    "            agent.beta = min(beta_end, agent.beta + beta_increment)\n",
    "        print('\\rEpisode {:>{epi_max_len}d} | Current Score: {:>7.2f} | Average Score: {:>7.2f} | Epsilon: {:>6.4f}'\\\n",
    "              .format(i_episode, score, np.mean(scores_window), eps, epi_max_len=epi_str_max_len), end=\"\")\n",
    "        if prioritized:\n",
    "            print(' | A: {:>6.4f} | Beta: {:>6.4f}'.format(agent.a, agent.beta), end='')\n",
    "        print('          ', end='')\n",
    "        if i_episode % 100 == 0:\n",
    "            print('\\rEpisode {:>{epi_max_len}} | Current Score: {:>7.2f} | Average Score: {:>7.2f} | Epsilon: {:>6.4f}'\\\n",
    "                  .format(i_episode, score, np.mean(scores_window), eps, epi_max_len=epi_str_max_len), end='')\n",
    "            if prioritized:\n",
    "                print(' | A: {:>6.4f} | Beta: {:>6.4f}'.format(agent.a, agent.beta), end='')\n",
    "            print('          ')\n",
    "        if not solved and np.mean(scores_window)>=200.0:\n",
    "            print('\\nEnvironment solved in {:d} episodes!\\tAverage Score: {:.2f}'.format(i_episode-100, np.mean(scores_window)))\n",
    "            torch.save(agent.qnetwork_local.state_dict(), save_name)\n",
    "            solved = True\n",
    "            if not continue_after_solved:\n",
    "                break\n",
    "    return scores\n",
    "\n",
    "scores = dqn(n_episodes=1000, max_t=1000,\n",
    "             eps_start=1.0, eps_end=0.01, eps_decay=0.995,\n",
    "             a_start=0.6, a_end=1.0,\n",
    "             beta_start=0.0, beta_end=1.0,\n",
    "             continue_after_solved=True,\n",
    "             save_name=\"checkpoint_dueling_solved2.pth\")\n",
    "\n",
    "# plot the scores\n",
    "plt.rcParams['figure.facecolor'] = 'w'\n",
    "fig = plt.figure()\n",
    "ax = fig.add_subplot(111)\n",
    "plt.plot(np.arange(len(scores)), scores)\n",
    "plt.ylabel('Score')\n",
    "plt.xlabel('Episode #')\n",
    "plt.show()"
   ]
  },
  {
   "cell_type": "code",
   "execution_count": 5,
   "metadata": {
    "ExecuteTime": {
     "end_time": "2019-03-03T02:10:19.726964Z",
     "start_time": "2019-03-03T02:10:19.379965Z"
    }
   },
   "outputs": [],
   "source": [
    "torch.save(agent.qnetwork_local.state_dict(), 'checkpoint_dueling_final.pth')"
   ]
  },
  {
   "cell_type": "code",
   "execution_count": 6,
   "metadata": {
    "ExecuteTime": {
     "end_time": "2019-03-01T08:38:34.932833Z",
     "start_time": "2019-03-01T08:38:34.911804Z"
    }
   },
   "outputs": [],
   "source": [
    "agent.qnetwork_local.load_state_dict(torch.load('checkpoint_dueling_final.pth'))"
   ]
  },
  {
   "cell_type": "markdown",
   "metadata": {},
   "source": [
    "### 4. Watch a Smart Agent!\n",
    "\n",
    "In the next code cell, you will load the trained weights from file to watch a smart agent!"
   ]
  },
  {
   "cell_type": "code",
   "execution_count": 5,
   "metadata": {
    "ExecuteTime": {
     "end_time": "2019-03-08T14:28:02.626926Z",
     "start_time": "2019-03-08T14:27:15.471243Z"
    }
   },
   "outputs": [
    {
     "name": "stdout",
     "output_type": "stream",
     "text": [
      "Game 0 Score: 288.85034137378335 in 266 steps\n",
      "Game 1 Score: 3.3885833985705887 in 235 steps\n",
      "Game 2 Score: 269.45159239894184 in 208 steps\n",
      "Game 3 Score: 195.56035417381517 in 252 steps\n",
      "Game 4 Score: 227.12246310545157 in 246 steps\n",
      "Game 5 Score: 287.68498230020805 in 254 steps\n",
      "Game 6 Score: 236.15297786251764 in 396 steps\n",
      "Game 7 Score: 221.2510545258914 in 332 steps\n",
      "Game 8 Score: 285.5766785994257 in 320 steps\n",
      "Game 9 Score: 284.9035842661986 in 287 steps\n"
     ]
    }
   ],
   "source": [
    "# load the weights from file\n",
    "\n",
    "for i in range(10):\n",
    "    state = env.reset()\n",
    "    score = 0\n",
    "    for j in range(1000):\n",
    "        action = agent.act(state)\n",
    "        env.render()\n",
    "        state, reward, done, _ = env.step(action)\n",
    "        score += reward\n",
    "        if done:\n",
    "            break\n",
    "    print(\"Game {} Score: {} in {} steps\".format(i, score, j + 1))\n",
    "            \n",
    "env.close()"
   ]
  },
  {
   "cell_type": "markdown",
   "metadata": {},
   "source": [
    "### 5. Explore\n",
    "\n",
    "In this exercise, you have implemented a DQN agent and demonstrated how to use it to solve an OpenAI Gym environment.  To continue your learning, you are encouraged to complete any (or all!) of the following tasks:\n",
    "- Amend the various hyperparameters and network architecture to see if you can get your agent to solve the environment faster.  Once you build intuition for the hyperparameters that work well with this environment, try solving a different OpenAI Gym task with discrete actions!\n",
    "- You may like to implement some improvements such as prioritized experience replay, Double DQN, or Dueling DQN! \n",
    "- Write a blog post explaining the intuition behind the DQN algorithm and demonstrating how to use it to solve an RL environment of your choosing.  "
   ]
  }
 ],
 "metadata": {
  "kernelspec": {
   "display_name": "Python 3",
   "language": "python",
   "name": "python3"
  },
  "language_info": {
   "codemirror_mode": {
    "name": "ipython",
    "version": 3
   },
   "file_extension": ".py",
   "mimetype": "text/x-python",
   "name": "python",
   "nbconvert_exporter": "python",
   "pygments_lexer": "ipython3",
   "version": "3.6.7"
  },
  "toc": {
   "base_numbering": 1,
   "nav_menu": {},
   "number_sections": true,
   "sideBar": true,
   "skip_h1_title": false,
   "title_cell": "Table of Contents",
   "title_sidebar": "Contents",
   "toc_cell": false,
   "toc_position": {},
   "toc_section_display": true,
   "toc_window_display": false
  }
 },
 "nbformat": 4,
 "nbformat_minor": 2
}
