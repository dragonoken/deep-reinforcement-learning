{
 "cells": [
  {
   "cell_type": "markdown",
   "metadata": {},
   "source": [
    "# Deep Q-Network (DQN)\n",
    "---\n",
    "In this notebook, you will implement a DQN agent with OpenAI Gym's LunarLander-v2 environment.\n",
    "\n",
    "### 1. Import the Necessary Packages"
   ]
  },
  {
   "cell_type": "code",
   "execution_count": 1,
   "metadata": {
    "ExecuteTime": {
     "end_time": "2019-03-12T05:52:25.261164Z",
     "start_time": "2019-03-12T05:52:24.078169Z"
    }
   },
   "outputs": [],
   "source": [
    "import gym\n",
    "import random\n",
    "import torch\n",
    "import numpy as np\n",
    "from collections import deque\n",
    "import matplotlib.pyplot as plt\n",
    "%matplotlib inline\n",
    "\n",
    "MODEL_NAME = \"distributional\"\n",
    "FILE_NUM = 0"
   ]
  },
  {
   "cell_type": "markdown",
   "metadata": {},
   "source": [
    "### 2. Instantiate the Environment and Agent\n",
    "\n",
    "Initialize the environment in the code cell below."
   ]
  },
  {
   "cell_type": "code",
   "execution_count": null,
   "metadata": {
    "ExecuteTime": {
     "start_time": "2019-03-12T05:52:20.256Z"
    }
   },
   "outputs": [
    {
     "name": "stdout",
     "output_type": "stream",
     "text": [
      "State shape:  (8,)\n",
      "Number of actions:  4\n"
     ]
    }
   ],
   "source": [
    "env = gym.make('LunarLander-v2')\n",
    "env.seed(0)\n",
    "print('State shape: ', env.observation_space.shape)\n",
    "print('Number of actions: ', env.action_space.n)"
   ]
  },
  {
   "cell_type": "markdown",
   "metadata": {},
   "source": [
    "Before running the next code cell, familiarize yourself with the code in **Step 2** and **Step 3** of this notebook, along with the code in `dqn_agent.py` and `model.py`.  Once you have an understanding of how the different files work together, \n",
    "- Define a neural network architecture in `model.py` that maps states to action values.  This file is mostly empty - it's up to you to define your own deep Q-network!\n",
    "- Finish the `learn` method in the `Agent` class in `dqn_agent.py`.  The sampled batch of experience tuples is already provided for you; you need only use the local and target Q-networks to compute the loss, before taking a step towards minimizing the loss.\n",
    "\n",
    "Once you have completed the code in `dqn_agent.py` and `model.py`, run the code cell below.  (_If you end up needing to make multiple changes and get unexpected behavior, please restart the kernel and run the cells from the beginning of the notebook!_)\n",
    "\n",
    "You can find the solution files, along with saved model weights for a trained agent, in the `solution/` folder.  (_Note that there are many ways to solve this exercise, and the \"solution\" is just one way of approaching the problem, to yield a trained agent._)"
   ]
  },
  {
   "cell_type": "code",
   "execution_count": null,
   "metadata": {
    "ExecuteTime": {
     "start_time": "2019-03-12T05:52:21.291Z"
    }
   },
   "outputs": [
    {
     "name": "stdout",
     "output_type": "stream",
     "text": [
      "Random Score: -174.93425466006954 +- 94.07815412561524 (100 trials)\n"
     ]
    }
   ],
   "source": [
    "# random play score\n",
    "scores = []\n",
    "for n in range(100):\n",
    "    score = 0\n",
    "    state = env.reset()\n",
    "    for j in range(1000):\n",
    "        state, reward, done, _ = env.step(env.action_space.sample())\n",
    "        score += reward\n",
    "        if done:\n",
    "            break\n",
    "    scores.append(score)\n",
    "print(\"Random Score: {} +- {} ({} trials)\".format(np.mean(scores), np.std(scores), len(scores)))"
   ]
  },
  {
   "cell_type": "code",
   "execution_count": null,
   "metadata": {
    "ExecuteTime": {
     "start_time": "2019-03-12T05:52:21.985Z"
    }
   },
   "outputs": [
    {
     "name": "stdout",
     "output_type": "stream",
     "text": [
      "Score: -420.0730482249217\n"
     ]
    }
   ],
   "source": [
    "from dqn_agent import Agent\n",
    "\n",
    "agent = Agent(state_size=8, action_size=4, seed=0)\n",
    "\n",
    "# watch an untrained agent\n",
    "state = env.reset()\n",
    "score = 0\n",
    "for j in range(200):\n",
    "    action = agent.act(state)\n",
    "    env.render()\n",
    "    state, reward, done, _ = env.step(action)\n",
    "    score += reward\n",
    "    if done:\n",
    "        break \n",
    "        \n",
    "env.close()\n",
    "print(\"Score:\", score)"
   ]
  },
  {
   "cell_type": "markdown",
   "metadata": {},
   "source": [
    "### 3. Train the Agent with DQN\n",
    "\n",
    "Run the code cell below to train the agent from scratch.  You are welcome to amend the supplied values of the parameters in the function, to try to see if you can get better performance!"
   ]
  },
  {
   "cell_type": "code",
   "execution_count": null,
   "metadata": {
    "ExecuteTime": {
     "start_time": "2019-03-12T05:52:23.218Z"
    },
    "scrolled": false
   },
   "outputs": [
    {
     "name": "stdout",
     "output_type": "stream",
     "text": [
      "Priority Used\n",
      "Episode  100 | Current Score:  -65.18 | Average Score: -109.64 | Epsilon: 0.0000 | A: 0.8000 | Beta: 0.0333          \n",
      "Episode  200 | Current Score:  -46.85 | Average Score:   64.07 | Epsilon: 0.0000 | A: 0.8000 | Beta: 0.0667          \n",
      "Episode  300 | Current Score:   -7.10 | Average Score:   78.65 | Epsilon: 0.0000 | A: 0.8000 | Beta: 0.1000          \n",
      "Episode  400 | Current Score:  174.76 | Average Score:   50.73 | Epsilon: 0.0000 | A: 0.8000 | Beta: 0.1333          \n",
      "Episode  500 | Current Score:  242.26 | Average Score:   95.49 | Epsilon: 0.0000 | A: 0.8000 | Beta: 0.1667          \n",
      "Episode  600 | Current Score: -276.90 | Average Score:  101.03 | Epsilon: 0.0000 | A: 0.8000 | Beta: 0.2000          \n",
      "Episode  700 | Current Score:  192.41 | Average Score:   73.92 | Epsilon: 0.0000 | A: 0.8000 | Beta: 0.2333          \n",
      "Episode  800 | Current Score:   -4.59 | Average Score:   80.29 | Epsilon: 0.0000 | A: 0.8000 | Beta: 0.2667          \n",
      "Episode  900 | Current Score:  231.15 | Average Score:  173.59 | Epsilon: 0.0000 | A: 0.8000 | Beta: 0.3000          \n",
      "Episode 1000 | Current Score:  -15.61 | Average Score:  174.50 | Epsilon: 0.0000 | A: 0.8000 | Beta: 0.3333          \n",
      "Episode 1094 | Current Score:  255.12 | Average Score:  200.28 | Epsilon: 0.0000 | A: 0.8000 | Beta: 0.3647          \n",
      "Environment solved in 994 episodes!\tAverage Score: 200.28\n",
      "Episode 1100 | Current Score: -231.43 | Average Score:  203.54 | Epsilon: 0.0000 | A: 0.8000 | Beta: 0.3667          \n",
      "Episode 1200 | Current Score:   17.75 | Average Score:  187.37 | Epsilon: 0.0000 | A: 0.8000 | Beta: 0.4000          \n",
      "Episode 1300 | Current Score:  275.69 | Average Score:  212.55 | Epsilon: 0.0000 | A: 0.8000 | Beta: 0.4333          \n",
      "Episode 1400 | Current Score:  261.60 | Average Score:  221.55 | Epsilon: 0.0000 | A: 0.8000 | Beta: 0.4667          \n",
      "Episode 1500 | Current Score:  280.70 | Average Score:  220.46 | Epsilon: 0.0000 | A: 0.8000 | Beta: 0.5000          \n",
      "Episode 1600 | Current Score:  191.87 | Average Score:  205.36 | Epsilon: 0.0000 | A: 0.8000 | Beta: 0.5333          \n",
      "Episode 1700 | Current Score:   -9.41 | Average Score:  157.71 | Epsilon: 0.0000 | A: 0.8000 | Beta: 0.5667          \n",
      "Episode 1800 | Current Score:  283.68 | Average Score:  182.10 | Epsilon: 0.0000 | A: 0.8000 | Beta: 0.6000          \n",
      "Episode 1900 | Current Score: -141.58 | Average Score:  212.66 | Epsilon: 0.0000 | A: 0.8000 | Beta: 0.6333          \n",
      "Episode 2000 | Current Score:   37.30 | Average Score:  192.01 | Epsilon: 0.0000 | A: 0.8000 | Beta: 0.6667          \n",
      "Episode 2100 | Current Score:  259.98 | Average Score:  210.73 | Epsilon: 0.0000 | A: 0.8000 | Beta: 0.7000          \n",
      "Episode 2160 | Current Score:  246.70 | Average Score:  227.95 | Epsilon: 0.0000 | A: 0.8000 | Beta: 0.7200          "
     ]
    }
   ],
   "source": [
    "def dqn(n_episodes=2000, max_t=1000,\n",
    "        eps_start=1.0, eps_end=0.01, eps_decay=0.995,\n",
    "        a_start=0., a_end=1.0,\n",
    "        beta_start=0., beta_end=1.0,\n",
    "        continue_after_solved=True,\n",
    "        save_name=\"checkpoint_dueling_solved.pth\"):\n",
    "    \"\"\"Deep Q-Learning.\n",
    "    \n",
    "    Params\n",
    "    ======\n",
    "        n_episodes (int): maximum number of training episodes\n",
    "        max_t (int): maximum number of timesteps per episode\n",
    "        eps_start (float): starting value of epsilon, for epsilon-greedy action selection\n",
    "        eps_end (float): minimum value of epsilon\n",
    "        eps_decay (float): multiplicative factor (per episode) for decreasing epsilon\n",
    "    \"\"\"\n",
    "    scores = []                        # list containing scores from each episode\n",
    "    scores_window = deque(maxlen=100)  # last 100 scores\n",
    "    eps = eps_start                    # initialize epsilon\n",
    "    \n",
    "    prioritized = hasattr(agent, 'beta')  # if using prioritized experience replay, initialize beta\n",
    "    if prioritized:\n",
    "        print(\"Priority Used\")\n",
    "        agent.a = a_start\n",
    "        agent.beta = beta_start\n",
    "        a_increment = (a_end - a_start) / n_episodes\n",
    "        beta_increment = (beta_end - beta_start) / n_episodes\n",
    "    else:\n",
    "        print(\"Priority Not Used\")\n",
    "        \n",
    "    solved = False\n",
    "    epi_str_max_len = len(str(n_episodes))\n",
    "    for i_episode in range(1, n_episodes+1):\n",
    "        state = env.reset()\n",
    "        score = 0\n",
    "        for t in range(max_t):\n",
    "            action = agent.act(state, eps)\n",
    "            next_state, reward, done, _ = env.step(action)\n",
    "            agent.step(state, action, reward, next_state, done)\n",
    "            state = next_state\n",
    "            score += reward\n",
    "            if done:\n",
    "                break\n",
    "        scores_window.append(score)       # save most recent score\n",
    "        scores.append(score)              # save most recent score\n",
    "        eps = max(eps_end, eps_decay*eps) # decrease epsilon\n",
    "        if prioritized:\n",
    "            agent.a = min(a_end, agent.a + a_increment)\n",
    "            agent.beta = min(beta_end, agent.beta + beta_increment)\n",
    "        print('\\rEpisode {:>{epi_max_len}d} | Current Score: {:>7.2f} | Average Score: {:>7.2f} | Epsilon: {:>6.4f}'\\\n",
    "              .format(i_episode, score, np.mean(scores_window), eps, epi_max_len=epi_str_max_len), end=\"\")\n",
    "        if prioritized:\n",
    "            print(' | A: {:>6.4f} | Beta: {:>6.4f}'.format(agent.a, agent.beta), end='')\n",
    "        print('          ', end='')\n",
    "        if i_episode % 100 == 0:\n",
    "            print('\\rEpisode {:>{epi_max_len}} | Current Score: {:>7.2f} | Average Score: {:>7.2f} | Epsilon: {:>6.4f}'\\\n",
    "                  .format(i_episode, score, np.mean(scores_window), eps, epi_max_len=epi_str_max_len), end='')\n",
    "            if prioritized:\n",
    "                print(' | A: {:>6.4f} | Beta: {:>6.4f}'.format(agent.a, agent.beta), end='')\n",
    "            print('          ')\n",
    "        if not solved and np.mean(scores_window)>=200.0:\n",
    "            print('\\nEnvironment solved in {:d} episodes!\\tAverage Score: {:.2f}'.format(i_episode-100, np.mean(scores_window)))\n",
    "            torch.save(agent.qnetwork_local.state_dict(), save_name)\n",
    "            solved = True\n",
    "            if not continue_after_solved:\n",
    "                break\n",
    "    return scores\n",
    "\n",
    "scores = dqn(n_episodes=3000, max_t=1000,\n",
    "             eps_start=0., eps_end=0., eps_decay=0.,\n",
    "             a_start=0.8, a_end=0.8,\n",
    "             beta_start=0.0, beta_end=1.0,\n",
    "             continue_after_solved=True,\n",
    "             save_name=\"checkpoint_{}_solved{}.pth\".format(MODEL_NAME, FILE_NUM))\n",
    "\n",
    "# plot the scores\n",
    "plt.rcParams['figure.facecolor'] = 'w'\n",
    "fig = plt.figure()\n",
    "ax = fig.add_subplot(111)\n",
    "plt.plot(np.arange(len(scores)), scores)\n",
    "plt.ylabel('Score')\n",
    "plt.xlabel('Episode #')\n",
    "plt.show()"
   ]
  },
  {
   "cell_type": "code",
   "execution_count": null,
   "metadata": {
    "ExecuteTime": {
     "start_time": "2019-03-12T05:52:24.727Z"
    }
   },
   "outputs": [],
   "source": [
    "torch.save(agent.qnetwork_local.state_dict(), \"checkpoint_{}_final{}.pth\".format(MODEL_NAME, FILE_NUM))"
   ]
  },
  {
   "cell_type": "code",
   "execution_count": 6,
   "metadata": {
    "ExecuteTime": {
     "end_time": "2019-03-09T15:42:16.346321Z",
     "start_time": "2019-03-09T15:42:16.333319Z"
    }
   },
   "outputs": [],
   "source": [
    "agent.qnetwork_local.load_state_dict(torch.load(\"checkpoint_{}_final{}.pth\".format(MODEL_NAME, FILE_NUM)))"
   ]
  },
  {
   "cell_type": "markdown",
   "metadata": {},
   "source": [
    "### 4. Watch a Smart Agent!\n",
    "\n",
    "In the next code cell, you will load the trained weights from file to watch a smart agent!"
   ]
  },
  {
   "cell_type": "code",
   "execution_count": 8,
   "metadata": {
    "ExecuteTime": {
     "end_time": "2019-03-09T15:43:58.475450Z",
     "start_time": "2019-03-09T15:43:10.798964Z"
    }
   },
   "outputs": [
    {
     "name": "stdout",
     "output_type": "stream",
     "text": [
      "Game 0 Score: 249.98635359973989 in 166 steps\n",
      "Game 1 Score: 188.83143334284688 in 1000 steps\n",
      "Game 2 Score: 273.1654934029272 in 221 steps\n",
      "Game 3 Score: 244.99494942745116 in 171 steps\n",
      "Game 4 Score: 272.1399594288923 in 200 steps\n",
      "Game 5 Score: 192.10919093304733 in 350 steps\n",
      "Game 6 Score: 270.2023976942239 in 169 steps\n",
      "Game 7 Score: 293.39158700312123 in 210 steps\n",
      "Game 8 Score: 259.39039660129225 in 167 steps\n",
      "Game 9 Score: 242.49702623279921 in 191 steps\n"
     ]
    }
   ],
   "source": [
    "if hasattr(agent, 'noise'):\n",
    "    agent.noise(False)\n",
    "\n",
    "for i in range(10):\n",
    "    state = env.reset()\n",
    "    score = 0\n",
    "    for j in range(1000):\n",
    "        action = agent.act(state)\n",
    "        env.render()\n",
    "        state, reward, done, _ = env.step(action)\n",
    "        score += reward\n",
    "        if done:\n",
    "            break\n",
    "    print(\"Game {} Score: {} in {} steps\".format(i, score, j + 1))\n",
    "\n",
    "if hasattr(agent, 'noise'):\n",
    "    agent.noise(True)\n",
    "env.close()"
   ]
  },
  {
   "cell_type": "markdown",
   "metadata": {},
   "source": [
    "### 5. Explore\n",
    "\n",
    "In this exercise, you have implemented a DQN agent and demonstrated how to use it to solve an OpenAI Gym environment.  To continue your learning, you are encouraged to complete any (or all!) of the following tasks:\n",
    "- Amend the various hyperparameters and network architecture to see if you can get your agent to solve the environment faster.  Once you build intuition for the hyperparameters that work well with this environment, try solving a different OpenAI Gym task with discrete actions!\n",
    "- You may like to implement some improvements such as prioritized experience replay, Double DQN, or Dueling DQN! \n",
    "- Write a blog post explaining the intuition behind the DQN algorithm and demonstrating how to use it to solve an RL environment of your choosing.  "
   ]
  }
 ],
 "metadata": {
  "kernelspec": {
   "display_name": "Python 3",
   "language": "python",
   "name": "python3"
  },
  "language_info": {
   "codemirror_mode": {
    "name": "ipython",
    "version": 3
   },
   "file_extension": ".py",
   "mimetype": "text/x-python",
   "name": "python",
   "nbconvert_exporter": "python",
   "pygments_lexer": "ipython3",
   "version": "3.6.7"
  },
  "toc": {
   "base_numbering": 1,
   "nav_menu": {},
   "number_sections": true,
   "sideBar": true,
   "skip_h1_title": false,
   "title_cell": "Table of Contents",
   "title_sidebar": "Contents",
   "toc_cell": false,
   "toc_position": {},
   "toc_section_display": true,
   "toc_window_display": false
  }
 },
 "nbformat": 4,
 "nbformat_minor": 2
}
